{
 "cells": [
  {
   "cell_type": "code",
   "execution_count": 42,
   "metadata": {},
   "outputs": [],
   "source": [
    "import numpy as np\n",
    "import pandas as pd\n",
    "import seaborn as sns\n",
    "import matplotlib.pyplot as plt\n",
    "import sklearn\n",
    "from sklearn.feature_extraction.text import CountVectorizer, TfidfVectorizer\n",
    "from sklearn.decomposition import LatentDirichletAllocation\n",
    "from sklearn.model_selection import train_test_split\n",
    "from sklearn.metrics import confusion_matrix, classification_report\n",
    "from sklearn.ensemble import RandomForestRegressor\n",
    "from sklearn.tree import DecisionTreeRegressor\n",
    "from sklearn.metrics import mean_squared_error as mse\n",
    "from sklearn.metrics import mean_absolute_error as mae\n",
    "from sklearn.metrics import r2_score as r2s\n",
    "from sklearn.model_selection import GridSearchCV\n",
    "from sklearn.preprocessing import MinMaxScaler"
   ]
  },
  {
   "cell_type": "code",
   "execution_count": 43,
   "metadata": {},
   "outputs": [
    {
     "data": {
      "text/html": [
       "<div>\n",
       "<style scoped>\n",
       "    .dataframe tbody tr th:only-of-type {\n",
       "        vertical-align: middle;\n",
       "    }\n",
       "\n",
       "    .dataframe tbody tr th {\n",
       "        vertical-align: top;\n",
       "    }\n",
       "\n",
       "    .dataframe thead th {\n",
       "        text-align: right;\n",
       "    }\n",
       "</style>\n",
       "<table border=\"1\" class=\"dataframe\">\n",
       "  <thead>\n",
       "    <tr style=\"text-align: right;\">\n",
       "      <th></th>\n",
       "      <th>Yield Curve</th>\n",
       "      <th>Production Index</th>\n",
       "      <th>Housing Starts</th>\n",
       "      <th>Cost of Living Index</th>\n",
       "      <th>Unemployment</th>\n",
       "      <th>Consumer Price Index</th>\n",
       "    </tr>\n",
       "    <tr>\n",
       "      <th>Period</th>\n",
       "      <th></th>\n",
       "      <th></th>\n",
       "      <th></th>\n",
       "      <th></th>\n",
       "      <th></th>\n",
       "      <th></th>\n",
       "    </tr>\n",
       "  </thead>\n",
       "  <tbody>\n",
       "    <tr>\n",
       "      <th>Jan.00</th>\n",
       "      <td>0.62</td>\n",
       "      <td>96.01601</td>\n",
       "      <td>118.4</td>\n",
       "      <td>1466</td>\n",
       "      <td>10.1</td>\n",
       "      <td>98.0</td>\n",
       "    </tr>\n",
       "    <tr>\n",
       "      <th>Feb.00</th>\n",
       "      <td>0.53</td>\n",
       "      <td>96.31606</td>\n",
       "      <td>118.2</td>\n",
       "      <td>1476</td>\n",
       "      <td>10.2</td>\n",
       "      <td>98.8</td>\n",
       "    </tr>\n",
       "    <tr>\n",
       "      <th>Mar.00</th>\n",
       "      <td>0.45</td>\n",
       "      <td>95.51592</td>\n",
       "      <td>118.4</td>\n",
       "      <td>1485</td>\n",
       "      <td>10.2</td>\n",
       "      <td>99.3</td>\n",
       "    </tr>\n",
       "    <tr>\n",
       "      <th>Apr.00</th>\n",
       "      <td>0.22</td>\n",
       "      <td>97.01617</td>\n",
       "      <td>119.3</td>\n",
       "      <td>1490</td>\n",
       "      <td>10.0</td>\n",
       "      <td>99.6</td>\n",
       "    </tr>\n",
       "    <tr>\n",
       "      <th>May.00</th>\n",
       "      <td>0.11</td>\n",
       "      <td>101.21690</td>\n",
       "      <td>120.5</td>\n",
       "      <td>1497</td>\n",
       "      <td>9.8</td>\n",
       "      <td>99.9</td>\n",
       "    </tr>\n",
       "  </tbody>\n",
       "</table>\n",
       "</div>"
      ],
      "text/plain": [
       "        Yield Curve  Production Index  Housing Starts  Cost of Living Index  \\\n",
       "Period                                                                        \n",
       "Jan.00         0.62          96.01601           118.4                  1466   \n",
       "Feb.00         0.53          96.31606           118.2                  1476   \n",
       "Mar.00         0.45          95.51592           118.4                  1485   \n",
       "Apr.00         0.22          97.01617           119.3                  1490   \n",
       "May.00         0.11         101.21690           120.5                  1497   \n",
       "\n",
       "        Unemployment  Consumer Price Index  \n",
       "Period                                      \n",
       "Jan.00          10.1                  98.0  \n",
       "Feb.00          10.2                  98.8  \n",
       "Mar.00          10.2                  99.3  \n",
       "Apr.00          10.0                  99.6  \n",
       "May.00           9.8                  99.9  "
      ]
     },
     "execution_count": 43,
     "metadata": {},
     "output_type": "execute_result"
    }
   ],
   "source": [
    "inflation = pd.read_csv('Initial Data.csv', index_col=\"Period\")\n",
    "inflation.head()"
   ]
  },
  {
   "cell_type": "code",
   "execution_count": 44,
   "metadata": {},
   "outputs": [
    {
     "name": "stdout",
     "output_type": "stream",
     "text": [
      "<class 'pandas.core.frame.DataFrame'>\n",
      "Index: 277 entries, Jan.00 to Jan.23\n",
      "Data columns (total 6 columns):\n",
      " #   Column                Non-Null Count  Dtype  \n",
      "---  ------                --------------  -----  \n",
      " 0   Yield Curve           277 non-null    float64\n",
      " 1   Production Index      277 non-null    float64\n",
      " 2   Housing Starts        277 non-null    float64\n",
      " 3   Cost of Living Index  277 non-null    int64  \n",
      " 4   Unemployment          277 non-null    float64\n",
      " 5   Consumer Price Index  277 non-null    float64\n",
      "dtypes: float64(5), int64(1)\n",
      "memory usage: 15.1+ KB\n"
     ]
    }
   ],
   "source": [
    "inflation.info()"
   ]
  },
  {
   "cell_type": "code",
   "execution_count": 45,
   "metadata": {},
   "outputs": [
    {
     "name": "stdout",
     "output_type": "stream",
     "text": [
      "                      Yield Curve  Production Index  Housing Starts  \\\n",
      "Yield Curve              1.000000         -0.454680       -0.284705   \n",
      "Production Index        -0.454680          1.000000        0.670288   \n",
      "Housing Starts          -0.284705          0.670288        1.000000   \n",
      "Cost of Living Index     0.083031          0.299675        0.206494   \n",
      "Unemployment             0.265917         -0.809726       -0.553677   \n",
      "Consumer Price Index     0.083586          0.299384        0.206322   \n",
      "\n",
      "                      Cost of Living Index  Unemployment  Consumer Price Index  \n",
      "Yield Curve                       0.083031      0.265917              0.083586  \n",
      "Production Index                  0.299675     -0.809726              0.299384  \n",
      "Housing Starts                    0.206494     -0.553677              0.206322  \n",
      "Cost of Living Index              1.000000     -0.410907              0.999982  \n",
      "Unemployment                     -0.410907      1.000000             -0.410423  \n",
      "Consumer Price Index              0.999982     -0.410423              1.000000  \n"
     ]
    }
   ],
   "source": [
    "corr = inflation.corr()\n",
    "\n",
    "print (corr)"
   ]
  },
  {
   "cell_type": "code",
   "execution_count": 46,
   "metadata": {},
   "outputs": [
    {
     "data": {
      "image/png": "[encoded data removed]",
      "text/plain": [
       "<Figure size 864x720 with 2 Axes>"
      ]
     },
     "metadata": {
      "needs_background": "light"
     },
     "output_type": "display_data"
    }
   ],
   "source": [
    "import seaborn as sns\n",
    "import textwrap\n",
    "\n",
    "fig, ax = plt.subplots(figsize=(12,10))\n",
    "\n",
    "heatmap = sns.heatmap(corr, annot=False, cmap='coolwarm', fmt='.2f')\n",
    "xlabels = [textwrap.fill(label.get_text(), 15) for label in ax.get_xticklabels()]\n",
    "ax.set_xticklabels(xlabels)\n",
    "\n",
    "# Wrap the y-axis labels\n",
    "ylabels = [textwrap.fill(label.get_text(), 15) for label in ax.get_yticklabels()]\n",
    "ax.set_yticklabels(ylabels)\n",
    "\n",
    "heatmap.set_xticklabels(heatmap.get_xticklabels(), rotation=45, fontsize=9, horizontalalignment='right')\n",
    "heatmap.set_yticklabels(heatmap.get_yticklabels(), rotation=0, fontsize=9)\n",
    "plt.savefig('heatmap_pre.png', dpi=300)"
   ]
  },
  {
   "cell_type": "code",
   "execution_count": 47,
   "metadata": {},
   "outputs": [],
   "source": [
    "X = inflation.drop('Consumer Price Index', axis=1)\n",
    "y = inflation['Consumer Price Index']\n",
    "\n",
    "\n",
    "#creating the x and y value for the dataset and creating a test and training set from them\n",
    "\n",
    "X_train, X_test, y_train, y_test = train_test_split(X, y, test_size=0.25, random_state=42)\n",
    "scaler = MinMaxScaler()\n",
    "scaler.fit (X_train)\n",
    "X_train_scaled = scaler.transform(X_train)\n",
    "X_test_scaled = scaler.transform(X_test)"
   ]
  },
  {
   "cell_type": "code",
   "execution_count": 48,
   "metadata": {},
   "outputs": [
    {
     "name": "stdout",
     "output_type": "stream",
     "text": [
      "['Yield Curve', 'Production Index', 'Housing Starts', 'Cost of Living Index', 'Unemployment']\n"
     ]
    }
   ],
   "source": [
    "heading = X.columns.tolist()\n",
    "print (heading)"
   ]
  },
  {
   "cell_type": "code",
   "execution_count": 49,
   "metadata": {},
   "outputs": [
    {
     "name": "stdout",
     "output_type": "stream",
     "text": [
      "MSE of Decision Tree:  0.17828571428571438\n",
      "MAE of Decision Tree 0.254285714285713\n",
      "R-Squared of Decision Tree 0.9989019762554627\n"
     ]
    }
   ],
   "source": [
    "inflation_tree = DecisionTreeRegressor(random_state=42, max_depth=11, min_samples_leaf=1, criterion='mse', splitter='best')\n",
    "\n",
    "inflation_tree.fit(X_train_scaled, y_train)\n",
    "\n",
    "y_pred_decision = inflation_tree.predict(X_test_scaled)\n",
    "mse_tree = mse(y_test, y_pred_decision)\n",
    "mae_tree = mae(y_test, y_pred_decision)\n",
    "rsq_tree = r2s(y_test, y_pred_decision)\n",
    "print ('MSE of Decision Tree: ', mse_tree)\n",
    "print ('MAE of Decision Tree', mae_tree)\n",
    "print ('R-Squared of Decision Tree', rsq_tree)\n",
    "\n",
    "#best decision tree"
   ]
  },
  {
   "cell_type": "code",
   "execution_count": 50,
   "metadata": {},
   "outputs": [
    {
     "name": "stdout",
     "output_type": "stream",
     "text": [
      "Yield Curve: 0.0013436956907405652\n",
      "Production Index: 0.0816997575179843\n",
      "Housing Starts: 0.0007713327945758155\n",
      "Cost of Living Index: 0.9160446619871553\n",
      "Unemployment: 0.00014055200954400876\n",
      "[0.0013436956907405652, 0.0816997575179843, 0.0007713327945758155, 0.9160446619871553, 0.00014055200954400876]\n"
     ]
    }
   ],
   "source": [
    "feature_importances = inflation_tree.feature_importances_\n",
    "list = []\n",
    "\n",
    "for feat in feature_importances:\n",
    "    list.append(feat)\n",
    "for feature, importance in zip(X.columns, feature_importances):\n",
    "    print(f'{feature}: {importance}')\n",
    "print (list)"
   ]
  },
  {
   "cell_type": "code",
   "execution_count": 51,
   "metadata": {},
   "outputs": [
    {
     "data": {
      "image/png": "[encoded data removed]",
      "text/plain": [
       "<Figure size 720x432 with 1 Axes>"
      ]
     },
     "metadata": {
      "needs_background": "light"
     },
     "output_type": "display_data"
    }
   ],
   "source": [
    "plt.figure(figsize=(10,6))\n",
    "plt.bar(X.columns, list)\n",
    "plt.title(\"Feature Importance Scores\")\n",
    "plt.xlabel(\"Features\")\n",
    "plt.ylabel(\"Importance\")\n",
    "plt.xticks(rotation=45)\n",
    "plt.show()"
   ]
  },
  {
   "cell_type": "code",
   "execution_count": 52,
   "metadata": {},
   "outputs": [
    {
     "name": "stdout",
     "output_type": "stream",
     "text": [
      "MSE of Random Forest: 0.2553169205601701\n",
      "MAE of Random Forest: 0.24244551020409924\n",
      "R-squared 0.9984275574614581\n"
     ]
    }
   ],
   "source": [
    "inflation_random = RandomForestRegressor(n_estimators=200, random_state=42, max_depth=10, min_samples_leaf=1, max_features='auto')\n",
    "inflation_random.fit(X_train, y_train)\n",
    "y_pred_rand = inflation_random.predict(X_test)\n",
    "mse_rand = mse(y_test, y_pred_rand)\n",
    "mae_rand = mae(y_test, y_pred_rand)\n",
    "r2 = r2s(y_test, y_pred_rand)\n",
    "print ('MSE of Random Forest:',mse_rand )\n",
    "print ('MAE of Random Forest:',mae_rand )\n",
    "print ('R-squared', r2)\n",
    "#best random forest"
   ]
  },
  {
   "cell_type": "code",
   "execution_count": 53,
   "metadata": {},
   "outputs": [
    {
     "name": "stdout",
     "output_type": "stream",
     "text": [
      "Yield Curve: 0.0009921571662350917\n",
      "Production Index: 0.04033258280321456\n",
      "Housing Starts: 0.0039874164676719035\n",
      "Cost of Living Index: 0.9536492100513766\n",
      "Unemployment: 0.0010386335115019035\n",
      "[0.0009921571662350917, 0.04033258280321456, 0.0039874164676719035, 0.9536492100513766, 0.0010386335115019035]\n"
     ]
    }
   ],
   "source": [
    "feature_importances = inflation_random.feature_importances_\n",
    "list = []\n",
    "\n",
    "for feat in feature_importances:\n",
    "    list.append(feat)\n",
    "for feature, importance in zip(X.columns, feature_importances):\n",
    "    print(f'{feature}: {importance}')\n",
    "print (list)"
   ]
  },
  {
   "cell_type": "code",
   "execution_count": 54,
   "metadata": {},
   "outputs": [
    {
     "data": {
      "image/png": "[encoded data removed]",
      "text/plain": [
       "<Figure size 720x432 with 1 Axes>"
      ]
     },
     "metadata": {
      "needs_background": "light"
     },
     "output_type": "display_data"
    }
   ],
   "source": [
    "plt.figure(figsize=(10,6))\n",
    "plt.bar(X.columns, list)\n",
    "plt.title(\"Feature Importance Scores\")\n",
    "plt.xlabel(\"Features\")\n",
    "plt.ylabel(\"Importance\")\n",
    "plt.xticks(rotation=45)\n",
    "plt.show()"
   ]
  },
  {
   "cell_type": "code",
   "execution_count": 55,
   "metadata": {},
   "outputs": [
    {
     "name": "stdout",
     "output_type": "stream",
     "text": [
      "MSE of LASSO: 0.011009331479272933\n",
      "MAE of LASSO Forest: 0.06671267319508647\n",
      "R-Squared of Lasso 0.9999321958720913\n"
     ]
    }
   ],
   "source": [
    "#After manual tuning\n",
    "from sklearn.linear_model import Lasso\n",
    "\n",
    "inflation_lasso = Lasso(alpha=0.01, fit_intercept=True, max_iter=1000, normalize=False, random_state=42)\n",
    "inflation_lasso.fit(X_train_scaled, y_train)\n",
    "y_pred_lasso = inflation_lasso.predict(X_test_scaled)\n",
    "mse_lasso = mse(y_test, y_pred_lasso)\n",
    "mae_lasso = mae(y_test, y_pred_lasso)\n",
    "r2_lasso = r2s(y_test, y_pred_lasso)\n",
    "print ('MSE of LASSO:',mse_lasso )\n",
    "print ('MAE of LASSO Forest:',mae_lasso )\n",
    "print ('R-Squared of Lasso', r2_lasso)\n",
    "#best lasso"
   ]
  },
  {
   "cell_type": "code",
   "execution_count": 56,
   "metadata": {},
   "outputs": [
    {
     "name": "stdout",
     "output_type": "stream",
     "text": [
      "Yield Curve: 0.0\n",
      "Production Index: 0.0\n",
      "Housing Starts: 0.0\n",
      "Cost of Living Index: 51.913711043028655\n",
      "Unemployment: 0.0\n",
      "[0.0, 0.0, 0.0, 51.913711043028655, 0.0]\n"
     ]
    }
   ],
   "source": [
    "feature_importances = np.abs(inflation_lasso.coef_)\n",
    "list = []\n",
    "\n",
    "for feat in feature_importances:\n",
    "    list.append(feat)\n",
    "for feature, importance in zip(X.columns, feature_importances):\n",
    "    print(f'{feature}: {importance}')\n",
    "print (list)"
   ]
  },
  {
   "cell_type": "code",
   "execution_count": 57,
   "metadata": {},
   "outputs": [
    {
     "data": {
      "image/png": "[encoded data removed]",
      "text/plain": [
       "<Figure size 720x432 with 1 Axes>"
      ]
     },
     "metadata": {
      "needs_background": "light"
     },
     "output_type": "display_data"
    }
   ],
   "source": [
    "plt.figure(figsize=(10,6))\n",
    "plt.bar(X.columns, list)\n",
    "plt.title(\"Feature Importance Scores\")\n",
    "plt.xlabel(\"Features\")\n",
    "plt.ylabel(\"Importance\")\n",
    "plt.xticks(rotation=45)\n",
    "plt.show()"
   ]
  },
  {
   "cell_type": "code",
   "execution_count": 58,
   "metadata": {},
   "outputs": [
    {
     "name": "stdout",
     "output_type": "stream",
     "text": [
      "MSE: 0.0070528073078013195\n",
      "MAE: 0.04232232962774946\n",
      "R-squared: 0.9999565632618371\n"
     ]
    }
   ],
   "source": [
    "from sklearn.svm import SVR\n",
    "\n",
    "svr = SVR (C=10, epsilon=0.01, kernel='linear')\n",
    "\n",
    "# Train the SVR model on the training data\n",
    "svr.fit(X_train_scaled, y_train)\n",
    "\n",
    "# Evaluate the performance of the model on the testing data\n",
    "y_pred = svr.predict(X_test_scaled)\n",
    "mse_svr = mse(y_test, y_pred)\n",
    "mae_svr = mae(y_test, y_pred)\n",
    "r2_svr = r2s(y_test, y_pred)\n",
    "\n",
    "print('MSE:', mse_svr)\n",
    "print('MAE:', mae_svr)\n",
    "print('R-squared:', r2_svr)\n",
    "\n",
    "#grid search SVR\n",
    "#best SVR"
   ]
  },
  {
   "cell_type": "code",
   "execution_count": 59,
   "metadata": {},
   "outputs": [
    {
     "name": "stdout",
     "output_type": "stream",
     "text": [
      "Yield Curve: 0.01749584536687432\n",
      "Production Index: 0.03151440974998465\n",
      "Housing Starts: 0.020515509524028808\n",
      "Cost of Living Index: 52.102316293294976\n",
      "Unemployment: 0.03707450385612243\n",
      "[0.01749584536687432, 0.03151440974998465, 0.020515509524028808, 52.102316293294976, 0.03707450385612243]\n"
     ]
    }
   ],
   "source": [
    "feature_importances = np.abs(svr.coef_[0])\n",
    "list = []\n",
    "\n",
    "for feat in feature_importances:\n",
    "    list.append(feat)\n",
    "for feature, importance in zip(X.columns, feature_importances):\n",
    "    print(f'{feature}: {importance}')\n",
    "print (list)"
   ]
  },
  {
   "cell_type": "code",
   "execution_count": 27,
   "metadata": {},
   "outputs": [
    {
     "data": {
      "image/png": "[encoded data removed]",
      "text/plain": [
       "<Figure size 720x432 with 1 Axes>"
      ]
     },
     "metadata": {
      "needs_background": "light"
     },
     "output_type": "display_data"
    }
   ],
   "source": [
    "plt.figure(figsize=(10,6))\n",
    "plt.bar(X.columns, list)\n",
    "plt.title(\"Feature Importance Scores\")\n",
    "plt.xlabel(\"Features\")\n",
    "plt.ylabel(\"Importance\")\n",
    "plt.xticks(rotation=45)\n",
    "plt.show()"
   ]
  },
  {
   "cell_type": "code",
   "execution_count": 60,
   "metadata": {},
   "outputs": [
    {
     "name": "stdout",
     "output_type": "stream",
     "text": [
      "MSE:  0.10679518863439053\n",
      "MAE:  0.21838361467633893\n",
      "R-squared:  0.9993422711775158\n"
     ]
    }
   ],
   "source": [
    "import xgboost as xgb\n",
    "from xgboost import plot_importance\n",
    "\n",
    "xgb_model = xgb.XGBRegressor(objective='reg:squarederror', learning_rate=0.1, max_depth=5, min_child_weight=1)\n",
    "xgb_model.fit(X_train_scaled, y_train)\n",
    "y_pred_xg = xgb_model.predict(X_test_scaled)\n",
    "mse_xg = mse(y_test, y_pred_xg )\n",
    "mae_xg = mae(y_test, y_pred_xg )\n",
    "rsq_xg = r2s(y_test, y_pred_xg )\n",
    "print('MSE: ', mse_xg)\n",
    "print ('MAE: ', mae_xg)\n",
    "print ('R-squared: ', rsq_xg)\n",
    "#grid search XGB\n",
    "#best XGB"
   ]
  },
  {
   "cell_type": "code",
   "execution_count": 61,
   "metadata": {},
   "outputs": [
    {
     "data": {
      "image/png": "[encoded data removed]",
      "text/plain": [
       "<Figure size 432x288 with 1 Axes>"
      ]
     },
     "metadata": {
      "needs_background": "light"
     },
     "output_type": "display_data"
    },
    {
     "data": {
      "text/plain": [
       "141"
      ]
     },
     "execution_count": 61,
     "metadata": {},
     "output_type": "execute_result"
    }
   ],
   "source": [
    "plot_importance(xgb_model)\n",
    "plt.show()\n",
    "141"
   ]
  },
  {
   "cell_type": "code",
   "execution_count": 62,
   "metadata": {},
   "outputs": [
    {
     "name": "stdout",
     "output_type": "stream",
     "text": [
      "{'f0': 141.0, 'f1': 110.0, 'f2': 110.0, 'f3': 316.0, 'f4': 41.0}\n"
     ]
    }
   ],
   "source": [
    "importance_scores = xgb_model.get_booster().get_score(importance_type='weight')\n",
    "print(importance_scores)\n"
   ]
  },
  {
   "cell_type": "markdown",
   "metadata": {},
   "source": [
    "Grid Search performed on Google Colab due to large runtime"
   ]
  },
  {
   "cell_type": "code",
   "execution_count": 67,
   "metadata": {},
   "outputs": [
    {
     "name": "stdout",
     "output_type": "stream",
     "text": [
      "Mean Squared Error:  0.005138004622001014\n",
      "Mean Absolute Error:  0.04378723011136917\n",
      "R-squared:  0.9999683561237809\n"
     ]
    }
   ],
   "source": [
    "import pandas as pd\n",
    "from sklearn.model_selection import train_test_split\n",
    "from sklearn.neural_network import MLPRegressor\n",
    "from sklearn.metrics import mean_squared_error as mse\n",
    "from sklearn.metrics import mean_absolute_error as mae\n",
    "from sklearn.metrics import r2_score as r2s\n",
    "\n",
    "\n",
    "# Train the artificial neural network\n",
    "model = MLPRegressor(hidden_layer_sizes=(50, 50), activation='relu', solver='lbfgs', max_iter=4000, learning_rate='constant', alpha=0.01, random_state=42)\n",
    "model.fit(X_train_scaled, y_train)\n",
    "\n",
    "# Predict the Consumer Price Index using the trained model\n",
    "y_pred_mlp = model.predict(X_test_scaled)\n",
    "\n",
    "# Calculate the Mean Squared Error\n",
    "mse_mlp = mse(y_test, y_pred_mlp)\n",
    "mae_mlp = mae(y_test, y_pred_mlp)\n",
    "rsq_mlp = r2s(y_test, y_pred_mlp)\n",
    "\n",
    "# Print the Mean Squared Error\n",
    "print('Mean Squared Error: ', mse_mlp)\n",
    "print('Mean Absolute Error: ', mae_mlp)\n",
    "print('R-squared: ', rsq_mlp)\n",
    "\n",
    "#grid search MLP\n",
    "#best MLP"
   ]
  },
  {
   "cell_type": "code",
   "execution_count": 73,
   "metadata": {},
   "outputs": [
    {
     "name": "stdout",
     "output_type": "stream",
     "text": [
      "Yield Curve -1.711141997028708\n",
      "Production Index -0.9634929066789576\n",
      "Housing Starts -0.7235900771315641\n",
      "Cost of Living Index 4.611448463880618\n",
      "Unemployment -0.21322348304138783\n"
     ]
    }
   ],
   "source": [
    "# get the feature importances\n",
    "importances = model.coefs_[0].sum(axis=1)\n",
    "\n",
    "# normalize the importances\n",
    "importances /= importances.sum()\n",
    "\n",
    "# print the importances\n",
    "for feature, importance in zip(heading, importances):\n",
    "    print(feature, importance)\n"
   ]
  }
 ],
 "metadata": {
  "interpreter": {
   "hash": "40d3a090f54c6569ab1632332b64b2c03c39dcf918b08424e98f38b5ae0af88f"
  },
  "kernelspec": {
   "display_name": "Python 3.9.7 ('base')",
   "language": "python",
   "name": "python3"
  },
  "language_info": {
   "codemirror_mode": {
    "name": "ipython",
    "version": 3
   },
   "file_extension": ".py",
   "mimetype": "text/x-python",
   "name": "python",
   "nbconvert_exporter": "python",
   "pygments_lexer": "ipython3",
   "version": "3.9.7"
  },
  "orig_nbformat": 4
 },
 "nbformat": 4,
 "nbformat_minor": 2
}
